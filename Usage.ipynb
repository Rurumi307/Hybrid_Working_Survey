{
 "cells": [
  {
   "cell_type": "code",
   "execution_count": 2,
   "metadata": {},
   "outputs": [],
   "source": [
    "from Hybrid_Working_module import *\n",
    "from Hybrid_Working_Survey import *\n",
    "# Usage example:\n",
    "# Set the year and month\n",
    "year = int(input(\"請輸入年份: \"))\n",
    "month = int(input(\"請輸入月份: \"))\n",
    "last_month_cnt = int(input(\"請輸入上個月IT人數 \")) # 59\n",
    "national_holidays = [\n",
    "    \"2024/1/1\", \"2024/2/8\", \"2024/2/9\", \"2024/2/10\", \"2024/2/11\", \"2024/2/12\", \"2024/2/13\", \"2024/2/14\", \"2024/2/13\", \"2024/2/28\",\n",
    "    \"2024/4/4\", \"2024/4/5\", \"2024/5/1\", \"2024/6/10\", \"2024/9/16\", \"2024/9/17\", \"2024/10/10\", \"2024/10/11\"\n",
    "]\n",
    "supervisor_list = input(\"請輸入supervisor: \")\n",
    "supervisor_list = supervisor_list.replace(\"'\",'').split(',')\n",
    "\n",
    "processor = DataProcessor(year, month, national_holidays, supervisor_list, last_month_cnt)\n",
    "processor.process()"
   ]
  }
 ],
 "metadata": {
  "kernelspec": {
   "display_name": "Python 3",
   "language": "python",
   "name": "python3"
  },
  "language_info": {
   "codemirror_mode": {
    "name": "ipython",
    "version": 3
   },
   "file_extension": ".py",
   "mimetype": "text/x-python",
   "name": "python",
   "nbconvert_exporter": "python",
   "pygments_lexer": "ipython3",
   "version": "3.9.13"
  }
 },
 "nbformat": 4,
 "nbformat_minor": 2
}
